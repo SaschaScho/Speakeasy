{
 "cells": [
  {
   "cell_type": "markdown",
   "metadata": {},
   "source": [
    "### Imports:"
   ]
  },
  {
   "cell_type": "code",
   "execution_count": 8,
   "metadata": {},
   "outputs": [],
   "source": [
    "import pandas as pd             # Lesen von Excel-Dateien\n",
    "from docx import Document       # Extrahieren von Word-Dateien. 'Document' ermöglicht Laden und Bearbeiten\n",
    "import os                       # Unterstützt das Arbeiten mit Dateipfaden und -erweiterungen"
   ]
  },
  {
   "cell_type": "markdown",
   "metadata": {},
   "source": [
    "### Excel-Function:"
   ]
  },
  {
   "cell_type": "code",
   "execution_count": 9,
   "metadata": {},
   "outputs": [],
   "source": [
    "# Funktion, um Excel-Dateien zu lesen (https://statisquo.de/2019/01/14/excel-dateien-in-python-importieren-mit-pandas/)\n",
    "\n",
    "def read_excel(file_path):\n",
    "    try:\n",
    "        df = pd.read_excel(file_path)                       # .read_excel liest Excel-Dateien\n",
    "        return df.to_string()                               # Wandelt Inhalt in String um\n",
    "    except Exception as e:                                  # 'Exception as e' fängt Fehler ab. e = Variable für Fehler \n",
    "        print(f'Fehler beim Lesen der Excel-Datei: {e}')    # Fehlermeldung (Später als Messagebox)\n",
    "        return None                                         # Bei Fehler Ende der Funktion\n",
    "\n",
    "\n"
   ]
  },
  {
   "cell_type": "markdown",
   "metadata": {},
   "source": [
    "### Word-Function:"
   ]
  },
  {
   "cell_type": "code",
   "execution_count": 10,
   "metadata": {},
   "outputs": [],
   "source": [
    "# Funktion, um Word-Dokumente zu lesen (https://python-docx.readthedocs.io/en/latest/)\n",
    "\n",
    "def read_word(file_path):\n",
    "    try:\n",
    "        document = Document(file_path)                      # 'Document' ist eine Klasse aus der Library um Word-Dokumente zu laden (neben den Imports schon beschrieben, aber safety first)\n",
    "        text = []                                           # Leere Liste die den Text später speichert, um die Textstruktur beizubehalten. Also die Absätze zum Beispiel\n",
    "        for paragraph in document.paragraphs:               # Geht alle Absätze durch und sorgt dafür, dass jeder Absatz als 'paragraph' gespeichert wird\n",
    "            text.append(paragraph.text)                     # Jeder Textinhalt eines Absatzes wird in die Liste 'text' eingefügt \n",
    "        return \"\\n\".join(text)                              # Gibt den kompletten Text als String zurück und Zeilenumbruch für Absätze \n",
    "    except Exception as e:\n",
    "        print(f'Fehler beim Lesen des Word-Dokuments: {e}')\n",
    "        return None"
   ]
  },
  {
   "cell_type": "markdown",
   "metadata": {},
   "source": [
    "### CSV-Function:"
   ]
  },
  {
   "cell_type": "code",
   "execution_count": 11,
   "metadata": {},
   "outputs": [],
   "source": [
    "# Funktion um CSV-Dateien zu lesen (Keine Quelle. Excel-Funtkion kopiert)\n",
    "\n",
    "def read_csv(file_path):\n",
    "    try:\n",
    "        df = pd.read_csv(file_path)                     # .read_csv liest CSV-Dateien\n",
    "        return df.to_string()                           # Wandelt Inhalt in einen String um\n",
    "    except Exception as e:\n",
    "        print(f'Fehler beim Lesen der CSV-Datei: {e}')  \n",
    "        return None\n"
   ]
  },
  {
   "cell_type": "markdown",
   "metadata": {},
   "source": [
    "### txt-Function:"
   ]
  },
  {
   "cell_type": "code",
   "execution_count": 12,
   "metadata": {},
   "outputs": [],
   "source": [
    "# Funktion um Text-Dateien zu lesen (https://guides.library.upenn.edu/penntdm/python/import_files#:~:text=In%20Python%2C%20you%20can%20use,and%20the%20file%20access%20mode.)\n",
    "################################### (https://www.python-lernen.de/dateien-auslesen.htm)\n",
    "\n",
    "def read_txt(file_path):                                        # Die Funtkion funktioniert ohne Imports \n",
    "    try:\n",
    "        with open(file_path, 'r') as file:                      # Später testen ob 'r' oder 'r+' benötigt wird\n",
    "            text = file.read()                                  # Liest den gesamten Text aus der Datei\n",
    "        return text\n",
    "    except Exception as e:\n",
    "        print(f'Fehler beim Lesen der Textdatei: {e}')          # Fehlermeldung bei einem Fehler\n",
    "        return None\n"
   ]
  },
  {
   "cell_type": "code",
   "execution_count": 13,
   "metadata": {},
   "outputs": [],
   "source": [
    "# .txt und .csv sind getrennte Funtkionen, weil die Dateiformate unterschiedliche Trennzeichen nutzen, damit bei der übersetzten Ausgabe keine Fehler entstehen"
   ]
  },
  {
   "cell_type": "markdown",
   "metadata": {},
   "source": [
    "### Main-Function:"
   ]
  },
  {
   "cell_type": "code",
   "execution_count": null,
   "metadata": {},
   "outputs": [
    {
     "ename": "IndentationError",
     "evalue": "unexpected indent (3281785106.py, line 18)",
     "output_type": "error",
     "traceback": [
      "\u001b[1;36m  Cell \u001b[1;32mIn[15], line 18\u001b[1;36m\u001b[0m\n\u001b[1;33m    else:\u001b[0m\n\u001b[1;37m    ^\u001b[0m\n\u001b[1;31mIndentationError\u001b[0m\u001b[1;31m:\u001b[0m unexpected indent\n"
     ]
    }
   ],
   "source": [
    "# Funktion um Dateiformat zu erkennen\n",
    "\n",
    "def read_file(file_path):\n",
    "    file_selection = os.path.splitext(file_path)[1].lower()         # Trennt die Dateiendung vom Dateinamen\n",
    "    \n",
    "    if file_selection == '.xlsx':\n",
    "        return read_excel(file_path)\n",
    "    elif file_selection == '.docx':\n",
    "        return read_word(file_path)\n",
    "    elif file_selection == '.txt':\n",
    "        return read_txt(file_path)\n",
    "    elif file_selection == '.csv':\n",
    "        return read_csv(file_path) \n",
    "''' elif file_selection == '.pdf':\n",
    "        return read_pdf(file_path)\n",
    "    elif file_selection == '.jpg' or file_selection == '.png':\n",
    "        return read_image(file_path)  '''                               \n",
    "    else:\n",
    "        print('Dateiformat wird nicht unterstützt.')\n",
    "        return None"
   ]
  }
 ],
 "metadata": {
  "kernelspec": {
   "display_name": "Python 3",
   "language": "python",
   "name": "python3"
  },
  "language_info": {
   "codemirror_mode": {
    "name": "ipython",
    "version": 3
   },
   "file_extension": ".py",
   "mimetype": "text/x-python",
   "name": "python",
   "nbconvert_exporter": "python",
   "pygments_lexer": "ipython3",
   "version": "3.13.1"
  }
 },
 "nbformat": 4,
 "nbformat_minor": 2
}
